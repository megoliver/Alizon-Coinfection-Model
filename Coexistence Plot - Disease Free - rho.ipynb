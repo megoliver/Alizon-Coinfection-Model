{
 "cells": [
  {
   "cell_type": "code",
   "execution_count": 3,
   "metadata": {},
   "outputs": [],
   "source": [
    "import numpy as np\n",
    "import matplotlib.pyplot as plt\n",
    "from scipy.integrate import odeint\n",
    "%matplotlib inline\n",
    "\n",
    "from sympy.solvers import solve\n",
    "from sympy import Symbol"
   ]
  },
  {
   "cell_type": "code",
   "execution_count": 4,
   "metadata": {},
   "outputs": [],
   "source": [
    "def resident(x, t):\n",
    "    lamda = (beta1*(x[1]+x[2]))\n",
    "    sdot = rho - mu*x[0] - sigmaS*lamda*x[0]\n",
    "    i1dot = sigmaS*lamda*x[0] - (mu+alpha1+(sigmaI*lamda))*x[1]\n",
    "    d11dot = sigmaI*lamda*x[1] - (mu+alpha1)*x[2]\n",
    "    return sdot,i1dot,d11dot"
   ]
  },
  {
   "cell_type": "code",
   "execution_count": 5,
   "metadata": {},
   "outputs": [],
   "source": [
    "tmax2 = 2000\n",
    "ts2 = np.linspace(0,200,tmax2)"
   ]
  },
  {
   "cell_type": "code",
   "execution_count": 6,
   "metadata": {},
   "outputs": [],
   "source": [
    "rho = 0.01                              # host input function\n",
    "mu = 0.075                               # basline mortality rate\n",
    "sigmaS = 1                            # vulnerability of suscpetible hosts to infection\n",
    "sigmaI = 5                            # vulnerability of infected hosts to infection\n",
    "alpha1 = 0.04                           # virulence of a host infected by 1\n",
    "beta1 = 0.4                          # transmission rate of strain 1 in single infection"
   ]
  },
  {
   "cell_type": "markdown",
   "metadata": {},
   "source": [
    "# Coexistence Regions"
   ]
  },
  {
   "cell_type": "markdown",
   "metadata": {},
   "source": [
    "# $\\rho$ & $\\mu$"
   ]
  },
  {
   "cell_type": "code",
   "execution_count": 7,
   "metadata": {},
   "outputs": [],
   "source": [
    "rho_values = np.arange(start=0, stop=0.11, step=0.01)\n",
    "mu_values = np.arange(start=0, stop=0.11, step=0.01)"
   ]
  },
  {
   "cell_type": "code",
   "execution_count": 8,
   "metadata": {},
   "outputs": [],
   "source": [
    "Grid = np.zeros((11,11))"
   ]
  },
  {
   "cell_type": "code",
   "execution_count": 9,
   "metadata": {},
   "outputs": [],
   "source": [
    "for i in range(11):\n",
    "    rho = rho_values[i]\n",
    "    for n in range(11):\n",
    "        mu = mu_values[n]\n",
    "        \n",
    "        x0 = [0.8,0.5,0.05]\n",
    "        xs = odeint(resident,x0,ts2)\n",
    "        Ss = xs[:,0]\n",
    "        I1s = xs[:,1]\n",
    "        D11s = xs[:,2]\n",
    "        \n",
    "        Grid[n][i] = 1\n",
    "    \n",
    "        if Ss[1999] < 0.001:\n",
    "             Grid[n][i] = 0\n",
    "                \n",
    "        if I1s[1999] < 0.001:\n",
    "             Grid[n][i] = 0\n",
    "                \n",
    "        if D11s[1999] < 0.001:\n",
    "             Grid[n][i] = 0"
   ]
  },
  {
   "cell_type": "code",
   "execution_count": 10,
   "metadata": {},
   "outputs": [
    {
     "data": {
      "text/plain": [
       "Text(0, 0.5, '$\\\\mu$')"
      ]
     },
     "execution_count": 10,
     "metadata": {},
     "output_type": "execute_result"
    },
    {
     "data": {
      "image/png": "[encoded data removed]",
      "text/plain": [
       "<Figure size 432x288 with 2 Axes>"
      ]
     },
     "metadata": {
      "needs_background": "light"
     },
     "output_type": "display_data"
    }
   ],
   "source": [
    "colourmap = plt.contourf(rho_values, mu_values, Grid, 1, cmap='winter')\n",
    "values = [0,1]\n",
    "cbar = plt.colorbar(colourmap,ticks = values, label='Coexistence?')\n",
    "cbar.set_ticklabels([\"No\", \"Yes\"])\n",
    "plt.title(r'Regions of Coexistence', fontsize=18)\n",
    "plt.xlabel(r'Value of $\\rho$', fontsize=18)\n",
    "plt.ylabel(r'Value of $\\mu$', fontsize=18)\n",
    "\n",
    "\n",
    "plt.xlabel(r'$\\rho$', fontsize=18)\n",
    "plt.ylabel(r'$\\mu$', fontsize=18)"
   ]
  },
  {
   "cell_type": "markdown",
   "metadata": {},
   "source": [
    "# $\\rho$ & $\\sigma_S$"
   ]
  },
  {
   "cell_type": "code",
   "execution_count": 11,
   "metadata": {},
   "outputs": [],
   "source": [
    "mu = 0.075"
   ]
  },
  {
   "cell_type": "code",
   "execution_count": 12,
   "metadata": {},
   "outputs": [],
   "source": [
    "rho_values = np.arange(start=0, stop=0.11, step=0.01)\n",
    "sigmaS_values = np.arange(start=0, stop=11, step=1)"
   ]
  },
  {
   "cell_type": "code",
   "execution_count": 13,
   "metadata": {},
   "outputs": [],
   "source": [
    "Grid = np.zeros((11,11))"
   ]
  },
  {
   "cell_type": "code",
   "execution_count": 14,
   "metadata": {},
   "outputs": [],
   "source": [
    "for i in range(11):\n",
    "    rho = rho_values[i]\n",
    "    for n in range(11):\n",
    "        sigmaS = sigmaS_values[n]\n",
    "        \n",
    "        x0 = [0.8,0.5,0.05]\n",
    "        xs = odeint(resident,x0,ts2)\n",
    "        Ss = xs[:,0]\n",
    "        I1s = xs[:,1]\n",
    "        D11s = xs[:,2]\n",
    "        \n",
    "        Grid[n][i] = 1\n",
    "    \n",
    "        if Ss[1999] < 0.001:\n",
    "             Grid[n][i] = 0\n",
    "                \n",
    "        if I1s[1999] < 0.001:\n",
    "             Grid[n][i] = 0\n",
    "                \n",
    "        if D11s[1999] < 0.001:\n",
    "             Grid[n][i] = 0"
   ]
  },
  {
   "cell_type": "code",
   "execution_count": 15,
   "metadata": {},
   "outputs": [
    {
     "data": {
      "text/plain": [
       "Text(0, 0.5, '$\\\\sigma_s$')"
      ]
     },
     "execution_count": 15,
     "metadata": {},
     "output_type": "execute_result"
    },
    {
     "data": {
      "image/png": "[encoded data removed]",
      "text/plain": [
       "<Figure size 432x288 with 2 Axes>"
      ]
     },
     "metadata": {
      "needs_background": "light"
     },
     "output_type": "display_data"
    }
   ],
   "source": [
    "colourmap = plt.contourf(rho_values, sigmaS_values, Grid, 1, cmap='winter')\n",
    "values = [0,1]\n",
    "cbar = plt.colorbar(colourmap,ticks = values, label='Coexistence?')\n",
    "cbar.set_ticklabels([\"No\", \"Yes\"])\n",
    "plt.title(r'Regions of Coexistence', fontsize=18)\n",
    "plt.xlabel(r'Value of $\\rho$', fontsize=18)\n",
    "plt.ylabel(r'Value of $\\sigma_S$', fontsize=18)\n",
    "\n",
    "plt.xlabel(r'$\\rho$', fontsize=18)\n",
    "plt.ylabel(r'$\\sigma_s$', fontsize=18)"
   ]
  },
  {
   "cell_type": "markdown",
   "metadata": {},
   "source": [
    "# $\\rho$ & $\\sigma_I$"
   ]
  },
  {
   "cell_type": "code",
   "execution_count": 16,
   "metadata": {},
   "outputs": [],
   "source": [
    "sigmaS = 1"
   ]
  },
  {
   "cell_type": "code",
   "execution_count": 17,
   "metadata": {},
   "outputs": [],
   "source": [
    "rho_values = np.arange(start=0, stop=0.11, step=0.01)\n",
    "sigmaI_values = np.arange(start=0, stop=11, step=1)"
   ]
  },
  {
   "cell_type": "code",
   "execution_count": 18,
   "metadata": {},
   "outputs": [],
   "source": [
    "Grid = np.zeros((11,11))"
   ]
  },
  {
   "cell_type": "code",
   "execution_count": 19,
   "metadata": {},
   "outputs": [],
   "source": [
    "for i in range(11):\n",
    "    rho = rho_values[i]\n",
    "    for n in range(11):\n",
    "        sigmaI = sigmaI_values[n]\n",
    "        \n",
    "        x0 = [0.8,0.5,0.05]\n",
    "        xs = odeint(resident,x0,ts2)\n",
    "        Ss = xs[:,0]\n",
    "        I1s = xs[:,1]\n",
    "        D11s = xs[:,2]\n",
    "        \n",
    "        Grid[n][i] = 1\n",
    "    \n",
    "        if Ss[1999] < 0.001:\n",
    "             Grid[n][i] = 0\n",
    "                \n",
    "        if I1s[1999] < 0.001:\n",
    "             Grid[n][i] = 0\n",
    "                \n",
    "        if D11s[1999] < 0.001:\n",
    "             Grid[n][i] = 0"
   ]
  },
  {
   "cell_type": "code",
   "execution_count": 20,
   "metadata": {},
   "outputs": [
    {
     "data": {
      "text/plain": [
       "Text(0, 0.5, '$\\\\sigma_I$')"
      ]
     },
     "execution_count": 20,
     "metadata": {},
     "output_type": "execute_result"
    },
    {
     "data": {
      "image/png": "[encoded data removed]",
      "text/plain": [
       "<Figure size 432x288 with 2 Axes>"
      ]
     },
     "metadata": {
      "needs_background": "light"
     },
     "output_type": "display_data"
    }
   ],
   "source": [
    "colourmap = plt.contourf(rho_values, sigmaI_values, Grid, 1, cmap='winter')\n",
    "values = [0,1]\n",
    "cbar = plt.colorbar(colourmap,ticks = values, label='Coexistence?')\n",
    "cbar.set_ticklabels([\"No\", \"Yes\"])\n",
    "plt.title(r'Regions of Coexistence', fontsize=18)\n",
    "plt.xlabel(r'Value of $\\rho$', fontsize=18)\n",
    "plt.ylabel(r'Value of $\\sigma_I$', fontsize=18)\n",
    "\n",
    "\n",
    "plt.xlabel(r'$\\rho$', fontsize=18)\n",
    "plt.ylabel(r'$\\sigma_I$', fontsize=18)"
   ]
  },
  {
   "cell_type": "markdown",
   "metadata": {},
   "source": [
    "# $\\rho$ & $\\alpha_1$"
   ]
  },
  {
   "cell_type": "code",
   "execution_count": 21,
   "metadata": {},
   "outputs": [],
   "source": [
    "sigmaI = 5"
   ]
  },
  {
   "cell_type": "code",
   "execution_count": 22,
   "metadata": {},
   "outputs": [],
   "source": [
    "rho_values = np.arange(start=0, stop=0.11, step=0.01)\n",
    "alpha1_values = np.arange(start=0, stop=0.11, step=0.01)"
   ]
  },
  {
   "cell_type": "code",
   "execution_count": 23,
   "metadata": {},
   "outputs": [],
   "source": [
    "Grid = np.zeros((11,11))"
   ]
  },
  {
   "cell_type": "code",
   "execution_count": 24,
   "metadata": {},
   "outputs": [],
   "source": [
    "for i in range(11):\n",
    "    rho = rho_values[i]\n",
    "    for n in range(11):\n",
    "        alpha1 = alpha1_values[n]\n",
    "        \n",
    "        x0 = [0.8,0.5,0.05]\n",
    "        xs = odeint(resident,x0,ts2)\n",
    "        Ss = xs[:,0]\n",
    "        I1s = xs[:,1]\n",
    "        D11s = xs[:,2]\n",
    "        \n",
    "        Grid[n][i] = 1\n",
    "    \n",
    "        if Ss[1999] < 0.001:\n",
    "             Grid[n][i] = 0\n",
    "                \n",
    "        if I1s[1999] < 0.001:\n",
    "             Grid[n][i] = 0\n",
    "                \n",
    "        if D11s[1999] < 0.001:\n",
    "             Grid[n][i] = 0"
   ]
  },
  {
   "cell_type": "code",
   "execution_count": 25,
   "metadata": {},
   "outputs": [
    {
     "data": {
      "text/plain": [
       "Text(0, 0.5, '$\\\\alpha_1$')"
      ]
     },
     "execution_count": 25,
     "metadata": {},
     "output_type": "execute_result"
    },
    {
     "data": {
      "image/png": "[encoded data removed]",
      "text/plain": [
       "<Figure size 432x288 with 2 Axes>"
      ]
     },
     "metadata": {
      "needs_background": "light"
     },
     "output_type": "display_data"
    }
   ],
   "source": [
    "colourmap = plt.contourf(rho_values, alpha1_values, Grid, 1, cmap='winter')\n",
    "values = [0,1]\n",
    "cbar = plt.colorbar(colourmap,ticks = values, label='Coexistence?')\n",
    "cbar.set_ticklabels([\"No\", \"Yes\"])\n",
    "plt.title(r'Regions of Coexistence', fontsize=18)\n",
    "plt.xlabel(r'Value of $\\rho$', fontsize=18)\n",
    "plt.ylabel(r'Value of $\\alpha_1$', fontsize=18)\n",
    "\n",
    "\n",
    "plt.xlabel(r'$\\rho$', fontsize=18)\n",
    "plt.ylabel(r'$\\alpha_1$', fontsize=18)"
   ]
  },
  {
   "cell_type": "markdown",
   "metadata": {},
   "source": [
    "# $\\rho$ & $\\beta_1$"
   ]
  },
  {
   "cell_type": "code",
   "execution_count": 26,
   "metadata": {},
   "outputs": [],
   "source": [
    "alpha1 = 0.04"
   ]
  },
  {
   "cell_type": "code",
   "execution_count": 27,
   "metadata": {},
   "outputs": [],
   "source": [
    "rho_values = np.arange(start=0, stop=0.11, step=0.01)\n",
    "beta1_values = np.arange(start=0, stop=1.1, step=0.1)"
   ]
  },
  {
   "cell_type": "code",
   "execution_count": 28,
   "metadata": {},
   "outputs": [],
   "source": [
    "Grid = np.zeros((11,11))"
   ]
  },
  {
   "cell_type": "code",
   "execution_count": 29,
   "metadata": {},
   "outputs": [],
   "source": [
    "for i in range(11):\n",
    "    rho = rho_values[i]\n",
    "    for n in range(11):\n",
    "        beta1 = beta1_values[n]\n",
    "        \n",
    "        x0 = [0.8,0.5,0.05]\n",
    "        xs = odeint(resident,x0,ts2)\n",
    "        Ss = xs[:,0]\n",
    "        I1s = xs[:,1]\n",
    "        D11s = xs[:,2]\n",
    "        \n",
    "        Grid[n][i] = 1\n",
    "    \n",
    "        if Ss[1999] < 0.001:\n",
    "             Grid[n][i] = 0\n",
    "                \n",
    "        if I1s[1999] < 0.001:\n",
    "             Grid[n][i] = 0\n",
    "                \n",
    "        if D11s[1999] < 0.001:\n",
    "             Grid[n][i] = 0"
   ]
  },
  {
   "cell_type": "code",
   "execution_count": 30,
   "metadata": {},
   "outputs": [
    {
     "data": {
      "text/plain": [
       "Text(0, 0.5, '$\\\\beta_1$')"
      ]
     },
     "execution_count": 30,
     "metadata": {},
     "output_type": "execute_result"
    },
    {
     "data": {
      "image/png": "[encoded data removed]",
      "text/plain": [
       "<Figure size 432x288 with 2 Axes>"
      ]
     },
     "metadata": {
      "needs_background": "light"
     },
     "output_type": "display_data"
    }
   ],
   "source": [
    "colourmap = plt.contourf(rho_values, beta1_values, Grid, 1, cmap='winter')\n",
    "values = [0,1]\n",
    "cbar = plt.colorbar(colourmap,ticks = values, label='Coexistence?')\n",
    "cbar.set_ticklabels([\"No\", \"Yes\"])\n",
    "plt.title(r'Regions of Coexistence', fontsize=18)\n",
    "plt.xlabel(r'Value of $\\rho$', fontsize=18)\n",
    "plt.ylabel(r'Value of $\\beta_1$', fontsize=18)\n",
    "\n",
    "plt.xlabel(r'$\\rho$', fontsize=18)\n",
    "plt.ylabel(r'$\\beta_1$', fontsize=18)"
   ]
  }
 ],
 "metadata": {
  "kernelspec": {
   "display_name": "Python 3",
   "language": "python",
   "name": "python3"
  },
  "language_info": {
   "codemirror_mode": {
    "name": "ipython",
    "version": 3
   },
   "file_extension": ".py",
   "mimetype": "text/x-python",
   "name": "python",
   "nbconvert_exporter": "python",
   "pygments_lexer": "ipython3",
   "version": "3.8.3"
  }
 },
 "nbformat": 4,
 "nbformat_minor": 4
}
